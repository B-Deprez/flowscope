{
 "cells": [
  {
   "cell_type": "markdown",
   "metadata": {},
   "source": [
    "# FlowScope: Spotting Money Laundering Based on Graphs"
   ]
  },
  {
   "cell_type": "markdown",
   "metadata": {},
   "source": [
    "## Set-up environment"
   ]
  },
  {
   "cell_type": "markdown",
   "metadata": {},
   "source": [
    "For this notebook, a dedicated virtual environment is set up. Some care is needed due to problems with dependencies after migration to [spartan](https://github.com/BGT-M/spartan2). This is based on the solution provided on this [issue](https://github.com/BGT-M/spartan2/issues/66).\n",
    "\n",
    "We have constructed the virtual environment as follows: \n",
    "```bash\n",
    "conda create -n spartan python=3.10\n",
    "conda activate spartan\n",
    "conda install cython==0.29.36\n",
    "pip install spartan2\n",
    "```\n",
    "\n",
    "This way of create the virtual environment seems to be sufficient to let the example in this notebook run. "
   ]
  },
  {
   "cell_type": "markdown",
   "metadata": {},
   "source": [
    "## Abstract"
   ]
  },
  {
   "cell_type": "markdown",
   "metadata": {},
   "source": [
    "Given a graph of the money transfers between accounts of\n",
    "a bank, how can we detect money laundering? Money laundering refers to criminals using the bank’s services to move\n",
    "massive amounts of illegal money to untraceable destination\n",
    "accounts, in order to inject their illegal money into the legitimate financial system. Existing graph fraud detection approaches focus on dense subgraph detection, without considering the fact that money laundering involves high-volume\n",
    "flows of funds through chains of bank accounts, thereby\n",
    "decreasing their detection accuracy. Instead, we propose to\n",
    "model the transactions using a multipartite graph, and detect the complete flow of money from source to destination\n",
    "using a scalable algorithm, FlowScope. Theoretical analysis\n",
    "shows that FlowScope provides guarantees in terms of the\n",
    "amount of money that fraudsters can transfer without being\n",
    "detected. FlowScope outperforms state-of-the-art baselines in\n",
    "accurately detecting the accounts involved in money laundering, in both injected and real-world data settings.\n"
   ]
  },
  {
   "cell_type": "code",
   "execution_count": 1,
   "metadata": {},
   "outputs": [
    {
     "name": "stdout",
     "output_type": "stream",
     "text": [
      "Using backend cpu\n"
     ]
    }
   ],
   "source": [
    "import spartan as st"
   ]
  },
  {
   "cell_type": "code",
   "execution_count": 2,
   "metadata": {},
   "outputs": [
    {
     "data": {
      "text/html": [
       "<div>\n",
       "<style scoped>\n",
       "    .dataframe tbody tr th:only-of-type {\n",
       "        vertical-align: middle;\n",
       "    }\n",
       "\n",
       "    .dataframe tbody tr th {\n",
       "        vertical-align: top;\n",
       "    }\n",
       "\n",
       "    .dataframe thead th {\n",
       "        text-align: right;\n",
       "    }\n",
       "</style>\n",
       "<table border=\"1\" class=\"dataframe\">\n",
       "  <thead>\n",
       "    <tr style=\"text-align: right;\">\n",
       "      <th></th>\n",
       "      <th>0</th>\n",
       "      <th>1</th>\n",
       "      <th>2</th>\n",
       "    </tr>\n",
       "  </thead>\n",
       "  <tbody>\n",
       "    <tr>\n",
       "      <th>0</th>\n",
       "      <td>0</td>\n",
       "      <td>3009</td>\n",
       "      <td>1000</td>\n",
       "    </tr>\n",
       "    <tr>\n",
       "      <th>1</th>\n",
       "      <td>1</td>\n",
       "      <td>915</td>\n",
       "      <td>937</td>\n",
       "    </tr>\n",
       "    <tr>\n",
       "      <th>2</th>\n",
       "      <td>2</td>\n",
       "      <td>3061</td>\n",
       "      <td>0</td>\n",
       "    </tr>\n",
       "    <tr>\n",
       "      <th>3</th>\n",
       "      <td>3</td>\n",
       "      <td>55</td>\n",
       "      <td>6000</td>\n",
       "    </tr>\n",
       "    <tr>\n",
       "      <th>4</th>\n",
       "      <td>4</td>\n",
       "      <td>939</td>\n",
       "      <td>157</td>\n",
       "    </tr>\n",
       "  </tbody>\n",
       "</table>\n",
       "</div>"
      ],
      "text/plain": [
       "   0     1     2\n",
       "0  0  3009  1000\n",
       "1  1   915   937\n",
       "2  2  3061     0\n",
       "3  3    55  6000\n",
       "4  4   939   157"
      ]
     },
     "execution_count": 2,
     "metadata": {},
     "output_type": "execute_result"
    }
   ],
   "source": [
    "import pandas as pd\n",
    "fs1_data = pd.read_csv(\"./inputData/fs_in_data.csv.gz\", header=None)\n",
    "fs1_data.head()"
   ]
  },
  {
   "cell_type": "code",
   "execution_count": 3,
   "metadata": {},
   "outputs": [],
   "source": [
    "# load graph data\n",
    "fs1_tensor_data = st.loadTensor(path = \"./inputData/fs_in_data.csv.gz\", header=None)\n",
    "fs2_tensor_data = st.loadTensor(path = \"./inputData/fs_out_data.csv.gz\", header=None)"
   ]
  },
  {
   "cell_type": "code",
   "execution_count": 4,
   "metadata": {},
   "outputs": [
    {
     "data": {
      "text/html": [
       "<div>\n",
       "<style scoped>\n",
       "    .dataframe tbody tr th:only-of-type {\n",
       "        vertical-align: middle;\n",
       "    }\n",
       "\n",
       "    .dataframe tbody tr th {\n",
       "        vertical-align: top;\n",
       "    }\n",
       "\n",
       "    .dataframe thead th {\n",
       "        text-align: right;\n",
       "    }\n",
       "</style>\n",
       "<table border=\"1\" class=\"dataframe\">\n",
       "  <thead>\n",
       "    <tr style=\"text-align: right;\">\n",
       "      <th></th>\n",
       "      <th>0</th>\n",
       "      <th>1</th>\n",
       "      <th>2</th>\n",
       "    </tr>\n",
       "  </thead>\n",
       "  <tbody>\n",
       "    <tr>\n",
       "      <th>0</th>\n",
       "      <td>0</td>\n",
       "      <td>3009</td>\n",
       "      <td>1000</td>\n",
       "    </tr>\n",
       "    <tr>\n",
       "      <th>1</th>\n",
       "      <td>1</td>\n",
       "      <td>915</td>\n",
       "      <td>937</td>\n",
       "    </tr>\n",
       "    <tr>\n",
       "      <th>2</th>\n",
       "      <td>2</td>\n",
       "      <td>3061</td>\n",
       "      <td>0</td>\n",
       "    </tr>\n",
       "    <tr>\n",
       "      <th>3</th>\n",
       "      <td>3</td>\n",
       "      <td>55</td>\n",
       "      <td>6000</td>\n",
       "    </tr>\n",
       "    <tr>\n",
       "      <th>4</th>\n",
       "      <td>4</td>\n",
       "      <td>939</td>\n",
       "      <td>157</td>\n",
       "    </tr>\n",
       "    <tr>\n",
       "      <th>...</th>\n",
       "      <td>...</td>\n",
       "      <td>...</td>\n",
       "      <td>...</td>\n",
       "    </tr>\n",
       "    <tr>\n",
       "      <th>2188</th>\n",
       "      <td>1330</td>\n",
       "      <td>2578</td>\n",
       "      <td>7760</td>\n",
       "    </tr>\n",
       "    <tr>\n",
       "      <th>2189</th>\n",
       "      <td>1331</td>\n",
       "      <td>2019</td>\n",
       "      <td>4588</td>\n",
       "    </tr>\n",
       "    <tr>\n",
       "      <th>2190</th>\n",
       "      <td>1278</td>\n",
       "      <td>2287</td>\n",
       "      <td>4300</td>\n",
       "    </tr>\n",
       "    <tr>\n",
       "      <th>2191</th>\n",
       "      <td>1332</td>\n",
       "      <td>3035</td>\n",
       "      <td>600</td>\n",
       "    </tr>\n",
       "    <tr>\n",
       "      <th>2192</th>\n",
       "      <td>1333</td>\n",
       "      <td>2227</td>\n",
       "      <td>2000</td>\n",
       "    </tr>\n",
       "  </tbody>\n",
       "</table>\n",
       "<p>2193 rows × 3 columns</p>\n",
       "</div>"
      ],
      "text/plain": [
       "         0     1     2\n",
       "0        0  3009  1000\n",
       "1        1   915   937\n",
       "2        2  3061     0\n",
       "3        3    55  6000\n",
       "4        4   939   157\n",
       "...    ...   ...   ...\n",
       "2188  1330  2578  7760\n",
       "2189  1331  2019  4588\n",
       "2190  1278  2287  4300\n",
       "2191  1332  3035   600\n",
       "2192  1333  2227  2000\n",
       "\n",
       "[2193 rows x 3 columns]"
      ]
     },
     "execution_count": 4,
     "metadata": {},
     "output_type": "execute_result"
    }
   ],
   "source": [
    "fs1_tensor_data.data"
   ]
  },
  {
   "cell_type": "markdown",
   "metadata": {},
   "source": [
    "\"tensor_data.data\" has two-colum attributes, and a single-colum values. The following table shows an example of 1000 two-tuple (source account id, destination account id) and the 3th-colum is the money."
   ]
  },
  {
   "cell_type": "markdown",
   "metadata": {},
   "source": [
    "| row id |    0    |    1    |    2   |\n",
    "| :----  | :----   | :----   | :----  |\n",
    "| 0 | 0  |  3009   | 1000 |\n",
    "| 1 | 1  |  915   | 937 |\n",
    "| 2 | 2  |  3061   | 0 |\n",
    "| 3 | 3  |  55   | 6000 |\n",
    "| 4 | 4  |  939   | 157 |\n",
    "| ... | ...  |  ...  | ... |\n",
    "|995|\t621\t|3328 |\t50000\n",
    "|996|\t622\t|1278 |\t3100\n",
    "|997|\t623\t|2470 |\t3000\n",
    "|998|\t375\t|1350 |\t20000\n",
    "|999|\t624\t|3329 |\t1000\n"
   ]
  },
  {
   "cell_type": "code",
   "execution_count": 5,
   "metadata": {},
   "outputs": [
    {
     "data": {
      "text/html": [
       "<div>\n",
       "<style scoped>\n",
       "    .dataframe tbody tr th:only-of-type {\n",
       "        vertical-align: middle;\n",
       "    }\n",
       "\n",
       "    .dataframe tbody tr th {\n",
       "        vertical-align: top;\n",
       "    }\n",
       "\n",
       "    .dataframe thead th {\n",
       "        text-align: right;\n",
       "    }\n",
       "</style>\n",
       "<table border=\"1\" class=\"dataframe\">\n",
       "  <thead>\n",
       "    <tr style=\"text-align: right;\">\n",
       "      <th></th>\n",
       "      <th>0</th>\n",
       "      <th>1</th>\n",
       "      <th>2</th>\n",
       "    </tr>\n",
       "  </thead>\n",
       "  <tbody>\n",
       "    <tr>\n",
       "      <th>0</th>\n",
       "      <td>0</td>\n",
       "      <td>259</td>\n",
       "      <td>30320</td>\n",
       "    </tr>\n",
       "    <tr>\n",
       "      <th>1</th>\n",
       "      <td>1</td>\n",
       "      <td>260</td>\n",
       "      <td>5000</td>\n",
       "    </tr>\n",
       "    <tr>\n",
       "      <th>2</th>\n",
       "      <td>3</td>\n",
       "      <td>261</td>\n",
       "      <td>10000</td>\n",
       "    </tr>\n",
       "    <tr>\n",
       "      <th>3</th>\n",
       "      <td>4</td>\n",
       "      <td>262</td>\n",
       "      <td>4000</td>\n",
       "    </tr>\n",
       "    <tr>\n",
       "      <th>4</th>\n",
       "      <td>5</td>\n",
       "      <td>263</td>\n",
       "      <td>400</td>\n",
       "    </tr>\n",
       "    <tr>\n",
       "      <th>...</th>\n",
       "      <td>...</td>\n",
       "      <td>...</td>\n",
       "      <td>...</td>\n",
       "    </tr>\n",
       "    <tr>\n",
       "      <th>2596</th>\n",
       "      <td>2200</td>\n",
       "      <td>192</td>\n",
       "      <td>24878</td>\n",
       "    </tr>\n",
       "    <tr>\n",
       "      <th>2597</th>\n",
       "      <td>2201</td>\n",
       "      <td>1907</td>\n",
       "      <td>200</td>\n",
       "    </tr>\n",
       "    <tr>\n",
       "      <th>2598</th>\n",
       "      <td>1971</td>\n",
       "      <td>113</td>\n",
       "      <td>3</td>\n",
       "    </tr>\n",
       "    <tr>\n",
       "      <th>2599</th>\n",
       "      <td>533</td>\n",
       "      <td>734</td>\n",
       "      <td>250</td>\n",
       "    </tr>\n",
       "    <tr>\n",
       "      <th>2600</th>\n",
       "      <td>2202</td>\n",
       "      <td>1908</td>\n",
       "      <td>1500</td>\n",
       "    </tr>\n",
       "  </tbody>\n",
       "</table>\n",
       "<p>2601 rows × 3 columns</p>\n",
       "</div>"
      ],
      "text/plain": [
       "         0     1      2\n",
       "0        0   259  30320\n",
       "1        1   260   5000\n",
       "2        3   261  10000\n",
       "3        4   262   4000\n",
       "4        5   263    400\n",
       "...    ...   ...    ...\n",
       "2596  2200   192  24878\n",
       "2597  2201  1907    200\n",
       "2598  1971   113      3\n",
       "2599   533   734    250\n",
       "2600  2202  1908   1500\n",
       "\n",
       "[2601 rows x 3 columns]"
      ]
     },
     "execution_count": 5,
     "metadata": {},
     "output_type": "execute_result"
    }
   ],
   "source": [
    "fs2_tensor_data.data"
   ]
  },
  {
   "cell_type": "code",
   "execution_count": 6,
   "metadata": {},
   "outputs": [],
   "source": [
    "fs1_stensor = fs1_tensor_data.toSTensor(hasvalue=True)\n",
    "fs2_stensor = fs2_tensor_data.toSTensor(hasvalue=True)"
   ]
  },
  {
   "cell_type": "code",
   "execution_count": 7,
   "metadata": {},
   "outputs": [
    {
     "data": {
      "text/html": [
       "<table><tbody><tr><th style=\"text-align: left\">Format</th><td style=\"text-align: left\">coo</td></tr><tr><th style=\"text-align: left\">Data Type</th><td style=\"text-align: left\">int64</td></tr><tr><th style=\"text-align: left\">Shape</th><td style=\"text-align: left\">(1334, 3430)</td></tr><tr><th style=\"text-align: left\">nnz</th><td style=\"text-align: left\">2006</td></tr><tr><th style=\"text-align: left\">Density</th><td style=\"text-align: left\">0.00043841053234315786</td></tr><tr><th style=\"text-align: left\">Read-only</th><td style=\"text-align: left\">True</td></tr><tr><th style=\"text-align: left\">Size</th><td style=\"text-align: left\">47.0K</td></tr><tr><th style=\"text-align: left\">Storage ratio</th><td style=\"text-align: left\">0.00</td></tr></tbody></table>"
      ],
      "text/plain": [
       "<COO: shape=(1334, 3430), dtype=int64, nnz=2006, fill_value=0>"
      ]
     },
     "execution_count": 7,
     "metadata": {},
     "output_type": "execute_result"
    }
   ],
   "source": [
    "fs1_stensor._data"
   ]
  },
  {
   "cell_type": "code",
   "execution_count": 8,
   "metadata": {},
   "outputs": [
    {
     "data": {
      "text/html": [
       "<table><tbody><tr><th style=\"text-align: left\">Format</th><td style=\"text-align: left\">coo</td></tr><tr><th style=\"text-align: left\">Data Type</th><td style=\"text-align: left\">int64</td></tr><tr><th style=\"text-align: left\">Shape</th><td style=\"text-align: left\">(2203, 1909)</td></tr><tr><th style=\"text-align: left\">nnz</th><td style=\"text-align: left\">2315</td></tr><tr><th style=\"text-align: left\">Density</th><td style=\"text-align: left\">0.0005504660890299837</td></tr><tr><th style=\"text-align: left\">Read-only</th><td style=\"text-align: left\">True</td></tr><tr><th style=\"text-align: left\">Size</th><td style=\"text-align: left\">54.3K</td></tr><tr><th style=\"text-align: left\">Storage ratio</th><td style=\"text-align: left\">0.00</td></tr></tbody></table>"
      ],
      "text/plain": [
       "<COO: shape=(2203, 1909), dtype=int64, nnz=2315, fill_value=0>"
      ]
     },
     "execution_count": 8,
     "metadata": {},
     "output_type": "execute_result"
    }
   ],
   "source": [
    "fs2_stensor._data"
   ]
  },
  {
   "cell_type": "markdown",
   "metadata": {},
   "source": [
    "Sparse tensors \"fs1_stensor\" and \"fs2_stensor\" are matrices constructed from tensor_data. The amounts of money are elements in those matrices.\n",
    "\n",
    "The size of fs1_stensor in this example is $1334 \\times 3430 $, and the size of fs2_stensor is $2203 \\times 1909 $."
   ]
  },
  {
   "cell_type": "code",
   "execution_count": 9,
   "metadata": {},
   "outputs": [],
   "source": [
    "maxshape = max(fs1_stensor.shape[1], fs2_stensor.shape[0])\n",
    "fs1_stensor.shape = (fs1_stensor.shape[0], maxshape)\n",
    "fs2_stensor.shape = (maxshape, fs2_stensor.shape[1])"
   ]
  },
  {
   "cell_type": "markdown",
   "metadata": {},
   "source": [
    "Change the shape of two stensors, make sure they have the same size in middle dimension.\n",
    "\n",
    "In this case, those matrices have sizes of $1334 \\times 3430$ and $3430 \\times 1909$"
   ]
  },
  {
   "cell_type": "code",
   "execution_count": 10,
   "metadata": {},
   "outputs": [],
   "source": [
    "graph_1 = st.Graph(fs1_stensor, bipartite=True, weighted=True, modet=None)\n",
    "graph_2 = st.Graph(fs2_stensor, bipartite=True, weighted=True, modet=None)"
   ]
  },
  {
   "cell_type": "markdown",
   "metadata": {},
   "source": [
    "Get graph instances from sparse tensors."
   ]
  },
  {
   "cell_type": "code",
   "execution_count": 11,
   "metadata": {},
   "outputs": [],
   "source": [
    "step2list = []\n",
    "step2list.append(graph_1)\n",
    "step2list.append(graph_2)"
   ]
  },
  {
   "cell_type": "markdown",
   "metadata": {},
   "source": [
    "Create a graph list, and add graphs in order"
   ]
  },
  {
   "cell_type": "markdown",
   "metadata": {},
   "source": [
    "### Run FlowScope as a single model"
   ]
  },
  {
   "cell_type": "code",
   "execution_count": 12,
   "metadata": {},
   "outputs": [],
   "source": [
    "fs = st.FlowScope(step2list)"
   ]
  },
  {
   "cell_type": "markdown",
   "metadata": {},
   "source": [
    "Note: This model does not support GPU, so it will not be accelerated in GPU mode"
   ]
  },
  {
   "cell_type": "code",
   "execution_count": 13,
   "metadata": {},
   "outputs": [
    {
     "name": "stdout",
     "output_type": "stream",
     "text": [
      "{'graphnum': 2, 'graphlist': [<spartan.tensor.graph.Graph object at 0x1620365c0>, <spartan.tensor.graph.Graph object at 0x162037880>]}\n"
     ]
    }
   ],
   "source": [
    "print(fs)"
   ]
  },
  {
   "cell_type": "markdown",
   "metadata": {},
   "source": [
    "Default parameters are: {'alpha': '4'}\n",
    "\n",
    "alpha is equivalent to $\\lambda$ in the paper"
   ]
  },
  {
   "cell_type": "code",
   "execution_count": 14,
   "metadata": {},
   "outputs": [
    {
     "name": "stdout",
     "output_type": "stream",
     "text": [
      "you are running with  3  partite graph\n",
      "this is the cpu version of FlowScope\n",
      "start  greedy\n",
      "initial score of g(S): -19063.209800689343\n",
      "best delete number :  6647\n",
      "nodes number remaining:  3 0 3 \n",
      "matrix mass remaining:  0.0 0.0 \n",
      "best score of g(S):  14313.653846153848\n",
      "min value of the tree :  (11, 0.0) (0, inf) (250, 0.0) \n",
      "the block size is: 10 7 9 \n",
      "\n",
      "this is the cpu version of FlowScope\n",
      "start  greedy\n",
      "initial score of g(S): -19053.298066836505\n",
      "best delete number :  6658\n",
      "nodes number remaining:  1 0 4 \n",
      "matrix mass remaining:  0.0 0.0 \n",
      "best score of g(S):  11218.333333333332\n",
      "min value of the tree :  (529, 0.0) (0, inf) (1272, 0.0) \n",
      "the block size is: 3 3 9 \n",
      "\n",
      "this is the cpu version of FlowScope\n",
      "start  greedy\n",
      "initial score of g(S): -19030.03371796793\n",
      "best delete number :  6657\n",
      "nodes number remaining:  3 0 5 \n",
      "matrix mass remaining:  0.0 0.0 \n",
      "best score of g(S):  9077.5625\n",
      "min value of the tree :  (346, 0.0) (0, inf) (4, 0.0) \n",
      "the block size is: 6 3 7 \n",
      "\n"
     ]
    }
   ],
   "source": [
    "res = fs.run(k=3, alpha=4,maxsize=(10,10,10))"
   ]
  },
  {
   "cell_type": "markdown",
   "metadata": {},
   "source": [
    "$k$ is the number of blocks you want to detect.\n",
    "\n",
    "$res$ is a list of each block. Each block constains [[detected nodes in each partite], score]"
   ]
  },
  {
   "cell_type": "markdown",
   "metadata": {},
   "source": [
    "### Run FlowScope from anomaly detection task"
   ]
  },
  {
   "cell_type": "code",
   "execution_count": 15,
   "metadata": {},
   "outputs": [],
   "source": [
    "ad_model = st.AnomalyDetection.create(step2list, st.ADPolicy.FlowScope, 'flowscope')"
   ]
  },
  {
   "cell_type": "code",
   "execution_count": 16,
   "metadata": {},
   "outputs": [
    {
     "name": "stdout",
     "output_type": "stream",
     "text": [
      "you are running with  3  partite graph\n",
      "this is the cpu version of FlowScope\n",
      "start  greedy\n",
      "initial score of g(S): -19063.209800689343\n",
      "best delete number :  6647\n",
      "nodes number remaining:  3 0 3 \n",
      "matrix mass remaining:  0.0 0.0 \n",
      "best score of g(S):  14313.653846153848\n",
      "min value of the tree :  (11, 0.0) (0, inf) (250, 0.0) \n",
      "the block size is: 10 7 9 \n",
      "\n"
     ]
    }
   ],
   "source": [
    "# run the model\n",
    "#default k=3, alpha=4\n",
    "res = ad_model.run(k=1,alpha=4,maxsize=(-1,-1,100))"
   ]
  },
  {
   "cell_type": "markdown",
   "metadata": {},
   "source": [
    "$maxsize$ is the block size limit.\n",
    "\n",
    "$maxsize$ can be an integer (-1 or positive), and $maxsize==-1$ means no size limit.\n",
    "\n",
    "$maxsize$ can be a tuple which contains the node size limit for each dimension of the block. Similarly, each element of $maxsize$ should be an integer (-1 or positive).\n",
    "\n",
    "The results is a list of top-k suspicious blocks. Each block constains [[detected nodes in each partite], score]\n",
    "\n",
    "Then we can visualize the subgraphs as follows."
   ]
  },
  {
   "cell_type": "code",
   "execution_count": 17,
   "metadata": {},
   "outputs": [
    {
     "data": {
      "text/plain": [
       "[[[{11, 68, 216, 227, 651, 689, 723, 749, 1146, 1276},\n",
       "   {117, 295, 426, 691, 708, 748, 1300},\n",
       "   {25, 133, 250, 336, 360, 383, 457, 550, 769}],\n",
       "  np.float64(14313.653846153848)]]"
      ]
     },
     "execution_count": 17,
     "metadata": {},
     "output_type": "execute_result"
    }
   ],
   "source": [
    "res"
   ]
  },
  {
   "cell_type": "code",
   "execution_count": 18,
   "metadata": {
    "scrolled": false
   },
   "outputs": [],
   "source": [
    "#viusal of graphs by networkx\n",
    "import matplotlib.pyplot as plt\n",
    "import numpy as np\n",
    "for r in res:\n",
    "    one, two, three = r[0]\n",
    "    one = np.array(list(one))\n",
    "    two = np.array(list(two))\n",
    "    three = np.array(list(three))"
   ]
  },
  {
   "cell_type": "code",
   "execution_count": 19,
   "metadata": {},
   "outputs": [
    {
     "data": {
      "text/plain": [
       "array([  11,   68,  216,  227,  651,  689,  723,  749, 1146, 1276])"
      ]
     },
     "execution_count": 19,
     "metadata": {},
     "output_type": "execute_result"
    }
   ],
   "source": [
    "one"
   ]
  },
  {
   "cell_type": "code",
   "execution_count": 20,
   "metadata": {},
   "outputs": [
    {
     "data": {
      "text/plain": [
       "array([ 117,  295,  426,  691,  708,  748, 1300])"
      ]
     },
     "execution_count": 20,
     "metadata": {},
     "output_type": "execute_result"
    }
   ],
   "source": [
    "two"
   ]
  },
  {
   "cell_type": "code",
   "execution_count": 21,
   "metadata": {},
   "outputs": [
    {
     "data": {
      "text/plain": [
       "<spartan.tensor.graph.Graph at 0x1620a4d60>"
      ]
     },
     "execution_count": 21,
     "metadata": {},
     "output_type": "execute_result"
    }
   ],
   "source": [
    "graph_1.get_sub_graph(one, two)"
   ]
  },
  {
   "cell_type": "code",
   "execution_count": 22,
   "metadata": {},
   "outputs": [],
   "source": [
    "from networkx.algorithms.bipartite.matrix import from_biadjacency_matrix\n",
    "import networkx as nx"
   ]
  },
  {
   "cell_type": "code",
   "execution_count": 23,
   "metadata": {},
   "outputs": [],
   "source": [
    "graph_nx = from_biadjacency_matrix(graph_1.get_sub_graph(one, two).sm)"
   ]
  },
  {
   "cell_type": "code",
   "execution_count": 24,
   "metadata": {},
   "outputs": [
    {
     "data": {
      "text/plain": [
       "NodeView((0, 1, 2, 3, 4, 5, 6, 7, 8, 9, 10, 11, 12, 13, 14, 15, 16))"
      ]
     },
     "execution_count": 24,
     "metadata": {},
     "output_type": "execute_result"
    }
   ],
   "source": [
    "graph_nx.nodes"
   ]
  },
  {
   "cell_type": "code",
   "execution_count": 25,
   "metadata": {},
   "outputs": [
    {
     "data": {
      "text/plain": [
       "EdgeView([(0, 10), (1, 12), (2, 15), (3, 14), (4, 11), (5, 16), (6, 10), (7, 13), (8, 13), (9, 10)])"
      ]
     },
     "execution_count": 25,
     "metadata": {},
     "output_type": "execute_result"
    }
   ],
   "source": [
    "graph_nx.edges"
   ]
  },
  {
   "cell_type": "code",
   "execution_count": 26,
   "metadata": {},
   "outputs": [
    {
     "data": {
      "image/png": "[encoded data removed]",
      "text/plain": [
       "<Figure size 640x480 with 1 Axes>"
      ]
     },
     "metadata": {},
     "output_type": "display_data"
    }
   ],
   "source": [
    "nx.draw_planar(graph_nx, with_labels=True)"
   ]
  },
  {
   "cell_type": "markdown",
   "metadata": {},
   "source": [
    "# Benchmark study"
   ]
  },
  {
   "cell_type": "code",
   "execution_count": 1,
   "metadata": {},
   "outputs": [],
   "source": [
    "import pandas as pd\n",
    "\n",
    "transaction_data = pd.read_csv('inputData/synthetic/raw/edge_data_synthetic.csv')\n",
    "transaction_data['money'] = 1\n",
    "transaction_data.to_csv('inputData/synthetic/processed/edge_data_synthetic.csv', index=False, header=False)"
   ]
  },
  {
   "cell_type": "code",
   "execution_count": 2,
   "metadata": {},
   "outputs": [
    {
     "name": "stdout",
     "output_type": "stream",
     "text": [
      "Using backend cpu\n"
     ]
    }
   ],
   "source": [
    "import spartan as st\n",
    "# load graph data\n",
    "fs1_tensor_data = st.loadTensor(path = \"./inputData/synthetic/processed/edge_data_synthetic.csv\", header=None)\n",
    "fs2_tensor_data = st.loadTensor(path = \"./inputData/synthetic/processed/edge_data_synthetic.csv\", header=None)\n",
    "\n",
    "fs1_stensor = fs1_tensor_data.toSTensor(hasvalue=True)\n",
    "fs2_stensor = fs2_tensor_data.toSTensor(hasvalue=True)\n",
    "\n",
    "maxshape = max(fs1_stensor.shape[1], fs2_stensor.shape[0])\n",
    "fs1_stensor.shape = (fs1_stensor.shape[0], maxshape)\n",
    "fs2_stensor.shape = (maxshape, fs2_stensor.shape[1])\n",
    "\n",
    "graph_1 = st.Graph(fs1_stensor, bipartite=True, weighted=True, modet=None)\n",
    "graph_2 = st.Graph(fs2_stensor, bipartite=True, weighted=True, modet=None)\n",
    "\n",
    "step2list = []\n",
    "step2list.append(graph_1)\n",
    "step2list.append(graph_2)"
   ]
  },
  {
   "cell_type": "code",
   "execution_count": 3,
   "metadata": {},
   "outputs": [
    {
     "name": "stdout",
     "output_type": "stream",
     "text": [
      "you are running with  3  partite graph\n",
      "this is the cpu version of FlowScope\n",
      "start  greedy\n",
      "initial score of g(S): -1.9191489361702128\n",
      "best delete number :  685\n",
      "nodes number remaining:  2 0 2 \n",
      "matrix mass remaining:  0.0 0.0 \n",
      "best score of g(S):  0.6\n",
      "min value of the tree :  (36, 0.0) (0, inf) (88, 0.0) \n",
      "the block size is: 5 10 5 \n",
      "\n",
      "this is the cpu version of FlowScope\n",
      "start  greedy\n",
      "initial score of g(S): -1.9219858156028367\n",
      "best delete number :  691\n",
      "nodes number remaining:  1 0 1 \n",
      "matrix mass remaining:  0.0 0.0 \n",
      "best score of g(S):  0.7142857142857143\n",
      "min value of the tree :  (209, 0.0) (0, inf) (213, 0.0) \n",
      "the block size is: 2 10 2 \n",
      "\n",
      "this is the cpu version of FlowScope\n",
      "start  greedy\n",
      "initial score of g(S): -1.9361702127659572\n",
      "best delete number :  702\n",
      "nodes number remaining:  1 0 1 \n",
      "matrix mass remaining:  0.0 0.0 \n",
      "best score of g(S):  0.3333333333333333\n",
      "min value of the tree :  (34, 0.0) (0, inf) (188, 0.0) \n",
      "the block size is: 1 1 1 \n",
      "\n"
     ]
    }
   ],
   "source": [
    "fs = st.FlowScope(step2list)\n",
    "res = fs.run(k=3, alpha=4,maxsize=(10,10,10))"
   ]
  },
  {
   "cell_type": "code",
   "execution_count": 4,
   "metadata": {},
   "outputs": [
    {
     "data": {
      "text/plain": [
       "[[[{8, 17, 36, 62, 214},\n",
       "   {29, 65, 215, 216, 217, 218, 219, 220, 221, 222},\n",
       "   {88, 133, 135, 152, 223}],\n",
       "  np.float64(0.6)],\n",
       " [[{200, 209}, {201, 202, 203, 204, 205, 206, 207, 210, 211, 212}, {208, 213}],\n",
       "  np.float64(0.7142857142857143)],\n",
       " [[{34}, {186}, {188}], np.float64(0.3333333333333333)]]"
      ]
     },
     "execution_count": 4,
     "metadata": {},
     "output_type": "execute_result"
    }
   ],
   "source": [
    "res"
   ]
  },
  {
   "cell_type": "code",
   "execution_count": 20,
   "metadata": {},
   "outputs": [
    {
     "data": {
      "text/plain": [
       "37"
      ]
     },
     "execution_count": 20,
     "metadata": {},
     "output_type": "execute_result"
    }
   ],
   "source": [
    "num_nodes = max(set(transaction_data.source).union(set(transaction_data.target)))+1\n",
    "\n",
    "laundering = []\n",
    "number_list = []\n",
    "\n",
    "keys_list = [i for i in range(num_nodes)]\n",
    "values_list = [0]*len(keys_list)\n",
    "map_scores = dict(zip(keys_list, values_list))\n",
    "\n",
    "for i in range(len(res)):\n",
    "    r = res[i][0]\n",
    "    for d in r:\n",
    "        d_list = list(d)\n",
    "        for j in range(len(d_list)):\n",
    "            map_scores[d_list[j]]= (3-i)/3\n",
    "        laundering+=d_list\n",
    "        number_list.append(i)\n",
    "\n",
    "len(laundering)"
   ]
  },
  {
   "cell_type": "code",
   "execution_count": 25,
   "metadata": {},
   "outputs": [
    {
     "name": "stdout",
     "output_type": "stream",
     "text": [
      "AUC-ROC:  0.6952380952380952\n",
      "AUC-PR:  0.5253028348268768\n"
     ]
    }
   ],
   "source": [
    "from sklearn.metrics import roc_auc_score, average_precision_score\n",
    "\n",
    "label_data = pd.read_csv('./inputData/synthetic/raw/label_data_synthetic.csv')\n",
    "label_data['node'] = label_data.index\n",
    "label_data['score'] = label_data['node'].map(map_scores)\n",
    "\n",
    "# Calculate the AUC-ROC and AUC-PR\n",
    "AUC_ROC = roc_auc_score(label_data['laundering'], label_data['score'])\n",
    "AUC_PR = average_precision_score(label_data['laundering'], label_data['score'])\n",
    "\n",
    "print('AUC-ROC: ', AUC_ROC)\n",
    "print('AUC-PR: ', AUC_PR)\n"
   ]
  },
  {
   "cell_type": "markdown",
   "metadata": {},
   "source": [
    "# Full experiment"
   ]
  },
  {
   "cell_type": "code",
   "execution_count": 2,
   "metadata": {},
   "outputs": [],
   "source": [
    "import pandas as pd\n",
    "import spartan as st\n",
    "\n",
    "def process_data(string_name):\n",
    "    transaction_data = pd.read_csv('inputData/synthetic/raw/edge_data_'+string_name+'.csv')\n",
    "    transaction_data['money'] = 1\n",
    "    transaction_data.to_csv('inputData/synthetic/processed/edge_data_'+string_name+'.csv', index=False, header=False)\n",
    "\n",
    "n_nodes_list = [200]#[100, 10000, 100000] # Number of nodes in the graph\n",
    "m_edges_list = [2]#[1, 2, 5] # Number of edges to attach from a new node to existing nodes\n",
    "p_edges_list = [0.01]#[0.001, 0.01] # Probability of adding an edge between two nodes\n",
    "generation_method_list = [\n",
    "    'Barabasi-Albert', \n",
    "    'Erdos-Renyi', \n",
    "    'Watts-Strogatz'\n",
    "    ] # Generation method for the graph\n",
    "n_patterns_list = [3]#[3, 5] # Number of smurfing patterns to add\n",
    "\n",
    "for n_nodes in n_nodes_list:\n",
    "    for n_patterns in n_patterns_list:\n",
    "        if n_patterns <= 0.06*n_nodes:\n",
    "            for generation_method in generation_method_list:\n",
    "                if generation_method == 'Barabasi-Albert':\n",
    "                    p_edges = 0\n",
    "                    for m_edges in m_edges_list:\n",
    "                        string_name = 'synthetic_' + generation_method + '_'  + str(n_nodes) + '_' + str(m_edges) + '_' + str(p_edges) + '_' + str(n_patterns)\n",
    "                        process_data(string_name)\n",
    "\n",
    "                if generation_method == 'Erdos-Renyi':\n",
    "                    m_edges = 0\n",
    "                    for p_edges in p_edges_list:\n",
    "                        string_name = 'synthetic_' + generation_method + '_'  + str(n_nodes) + '_' + str(m_edges) + '_' + str(p_edges) + '_' + str(n_patterns)\n",
    "                        process_data(string_name)\n",
    "\n",
    "                if generation_method == 'Watts-Strogatz':\n",
    "                    for m_edges in m_edges_list:\n",
    "                        for p_edges in p_edges_list:\n",
    "                            string_name = 'synthetic_' + generation_method + '_'  + str(n_nodes) + '_' + str(m_edges) + '_' + str(p_edges) + '_' + str(n_patterns)\n",
    "                            process_data(string_name)"
   ]
  },
  {
   "cell_type": "code",
   "execution_count": 10,
   "metadata": {},
   "outputs": [],
   "source": [
    "from sklearn.metrics import roc_auc_score, average_precision_score\n",
    "def flowscope_synthetic(string_name):\n",
    "    # load graph data\n",
    "    transaction_data = pd.read_csv('inputData/synthetic/raw/edge_data_synthetic.csv')\n",
    "    fs1_tensor_data = st.loadTensor(path = \"./inputData/synthetic/processed/edge_data_\"+string_name+\".csv\", header=None)\n",
    "    fs2_tensor_data = st.loadTensor(path = \"./inputData/synthetic/processed/edge_data_\"+string_name+\".csv\", header=None)\n",
    "\n",
    "    fs1_stensor = fs1_tensor_data.toSTensor(hasvalue=True)\n",
    "    fs2_stensor = fs2_tensor_data.toSTensor(hasvalue=True)\n",
    "\n",
    "    maxshape = max(fs1_stensor.shape[1], fs2_stensor.shape[0])\n",
    "    fs1_stensor.shape = (fs1_stensor.shape[0], maxshape)\n",
    "    fs2_stensor.shape = (maxshape, fs2_stensor.shape[1])\n",
    "\n",
    "    graph_1 = st.Graph(fs1_stensor, bipartite=True, weighted=True, modet=None)\n",
    "    graph_2 = st.Graph(fs2_stensor, bipartite=True, weighted=True, modet=None)\n",
    "\n",
    "    step2list = []\n",
    "    step2list.append(graph_1)\n",
    "    step2list.append(graph_2)\n",
    "\n",
    "    fs = st.FlowScope(step2list)\n",
    "    res = fs.run(k=3, alpha=4,maxsize=(10,10,10))\n",
    "\n",
    "    num_nodes = max(set(transaction_data.source).union(set(transaction_data.target)))+1\n",
    "\n",
    "    laundering = []\n",
    "    number_list = []\n",
    "\n",
    "    keys_list = [i for i in range(num_nodes)]\n",
    "    values_list = [0]*len(keys_list)\n",
    "    map_scores = dict(zip(keys_list, values_list))\n",
    "\n",
    "    for i in range(len(res)):\n",
    "        r = res[i][0]\n",
    "        for d in r:\n",
    "            d_list = list(d)\n",
    "            for j in range(len(d_list)):\n",
    "                map_scores[d_list[j]]= (3-i)/3\n",
    "            laundering+=d_list\n",
    "            number_list.append(i)\n",
    "\n",
    "    label_data = pd.read_csv('./inputData/synthetic/raw/label_data_'+string_name+'.csv')\n",
    "    label_data['node'] = label_data.index\n",
    "    label_data['score'] = label_data['node'].map(map_scores)\n",
    "    label_data['score'] = label_data['score'].fillna(0)\n",
    "\n",
    "    # Calculate the AUC-ROC and AUC-PR\n",
    "    AUC_ROC = roc_auc_score(label_data['laundering'], label_data['score'])\n",
    "    AUC_PR = average_precision_score(label_data['laundering'], label_data['score'])\n",
    "    print(\"====\", string_name, \"====\")\n",
    "    print('AUC-ROC: ', AUC_ROC)\n",
    "    print('AUC-PR: ', AUC_PR)\n",
    "    print(\"==========================\")\n"
   ]
  },
  {
   "cell_type": "code",
   "execution_count": 11,
   "metadata": {},
   "outputs": [
    {
     "name": "stdout",
     "output_type": "stream",
     "text": [
      "==== synthetic_Barabasi-Albert_200_2_0_3 ====\n",
      "you are running with  3  partite graph\n",
      "this is the cpu version of FlowScope\n",
      "start  greedy\n",
      "initial score of g(S): -2.7521489971346704\n",
      "best delete number :  689\n",
      "nodes number remaining:  4 0 4 \n",
      "matrix mass remaining:  0.0 0.0 \n",
      "best score of g(S):  0.4444444444444444\n",
      "min value of the tree :  (23, 0.0) (0, inf) (86, 0.0) \n",
      "the block size is: 4 1 4 \n",
      "\n",
      "this is the cpu version of FlowScope\n",
      "start  greedy\n",
      "initial score of g(S): -2.653295128939828\n",
      "best delete number :  680\n",
      "nodes number remaining:  3 0 3 \n",
      "matrix mass remaining:  0.0 0.0 \n",
      "best score of g(S):  0.4444444444444444\n",
      "min value of the tree :  (10, 0.0) (0, inf) (135, 0.0) \n",
      "the block size is: 7 3 8 \n",
      "\n",
      "this is the cpu version of FlowScope\n",
      "start  greedy\n",
      "initial score of g(S): -2.7492836676217762\n",
      "best delete number :  684\n",
      "nodes number remaining:  2 0 2 \n",
      "matrix mass remaining:  0.0 0.0 \n",
      "best score of g(S):  0.42857142857142855\n",
      "min value of the tree :  (30, 0.0) (0, inf) (137, 0.0) \n",
      "the block size is: 6 3 5 \n",
      "\n",
      "==== synthetic_Barabasi-Albert_200_2_0_3 ====\n",
      "AUC-ROC:  0.5736958443854995\n",
      "AUC-PR:  0.3895519892866561\n",
      "==========================\n",
      "==== synthetic_Erdos-Renyi_200_0_0.01_3 ====\n",
      "you are running with  3  partite graph\n",
      "this is the cpu version of FlowScope\n",
      "start  greedy\n",
      "initial score of g(S): -0.8684971098265896\n",
      "best delete number :  683\n",
      "nodes number remaining:  1 0 1 \n",
      "matrix mass remaining:  0.0 0.0 \n",
      "best score of g(S):  0.7777777777777778\n",
      "min value of the tree :  (210, 0.0) (0, inf) (218, 0.0) \n",
      "the block size is: 1 7 1 \n",
      "\n",
      "this is the cpu version of FlowScope\n",
      "start  greedy\n",
      "initial score of g(S): -0.8786127167630058\n",
      "best delete number :  686\n",
      "nodes number remaining:  1 0 1 \n",
      "matrix mass remaining:  0.0 0.0 \n",
      "best score of g(S):  0.6666666666666666\n",
      "min value of the tree :  (204, 0.0) (0, inf) (209, 0.0) \n",
      "the block size is: 1 4 1 \n",
      "\n",
      "this is the cpu version of FlowScope\n",
      "start  greedy\n",
      "initial score of g(S): -0.884393063583815\n",
      "best delete number :  683\n",
      "nodes number remaining:  1 0 1 \n",
      "matrix mass remaining:  0.0 0.0 \n",
      "best score of g(S):  0.5555555555555556\n",
      "min value of the tree :  (200, 0.0) (0, inf) (203, 0.0) \n",
      "the block size is: 2 5 2 \n",
      "\n",
      "==== synthetic_Erdos-Renyi_200_0_0.01_3 ====\n",
      "AUC-ROC:  0.7\n",
      "AUC-PR:  0.5518987341772152\n",
      "==========================\n",
      "==== synthetic_Watts-Strogatz_200_2_0.01_3 ====\n",
      "you are running with  3  partite graph\n",
      "this is the cpu version of FlowScope\n",
      "start  greedy\n",
      "initial score of g(S): -0.7449118046132971\n",
      "best delete number :  722\n",
      "nodes number remaining:  6 0 7 \n",
      "matrix mass remaining:  0.0 0.0 \n",
      "best score of g(S):  0.4666666666666667\n",
      "min value of the tree :  (42, 0.0) (0, inf) (92, 0.0) \n",
      "the block size is: 7 1 7 \n",
      "\n",
      "this is the cpu version of FlowScope\n",
      "start  greedy\n",
      "initial score of g(S): -0.8561736770691996\n",
      "best delete number :  730\n",
      "nodes number remaining:  3 0 3 \n",
      "matrix mass remaining:  0.0 0.0 \n",
      "best score of g(S):  0.42857142857142855\n",
      "min value of the tree :  (156, 0.0) (0, inf) (164, 0.0) \n",
      "the block size is: 3 1 3 \n",
      "\n",
      "this is the cpu version of FlowScope\n",
      "start  greedy\n",
      "initial score of g(S): -0.8575305291723201\n",
      "best delete number :  718\n",
      "nodes number remaining:  3 0 3 \n",
      "matrix mass remaining:  0.0 0.0 \n",
      "best score of g(S):  0.47368421052631576\n",
      "min value of the tree :  (91, 0.0) (0, inf) (102, 0.0) \n",
      "the block size is: 8 3 8 \n",
      "\n",
      "==== synthetic_Watts-Strogatz_200_2_0.01_3 ====\n",
      "AUC-ROC:  0.5522791740880005\n",
      "AUC-PR:  0.4156221998207885\n",
      "==========================\n"
     ]
    }
   ],
   "source": [
    "n_nodes_list = [200]#[100, 10000, 100000] # Number of nodes in the graph\n",
    "m_edges_list = [2]#[1, 2, 5] # Number of edges to attach from a new node to existing nodes\n",
    "p_edges_list = [0.01]#[0.001, 0.01] # Probability of adding an edge between two nodes\n",
    "generation_method_list = [\n",
    "    'Barabasi-Albert', \n",
    "    'Erdos-Renyi', \n",
    "    'Watts-Strogatz'\n",
    "    ] # Generation method for the graph\n",
    "n_patterns_list = [3]#[3, 5] # Number of smurfing patterns to add\n",
    "\n",
    "for n_nodes in n_nodes_list:\n",
    "    for n_patterns in n_patterns_list:\n",
    "        if n_patterns <= 0.06*n_nodes:\n",
    "            for generation_method in generation_method_list:\n",
    "                if generation_method == 'Barabasi-Albert':\n",
    "                    p_edges = 0\n",
    "                    for m_edges in m_edges_list:\n",
    "                        string_name = 'synthetic_' + generation_method + '_'  + str(n_nodes) + '_' + str(m_edges) + '_' + str(p_edges) + '_' + str(n_patterns)\n",
    "                        print(\"====\", string_name, \"====\")\n",
    "                        flowscope_synthetic(string_name)\n",
    "\n",
    "                if generation_method == 'Erdos-Renyi':\n",
    "                    m_edges = 0\n",
    "                    for p_edges in p_edges_list:\n",
    "                        string_name = 'synthetic_' + generation_method + '_'  + str(n_nodes) + '_' + str(m_edges) + '_' + str(p_edges) + '_' + str(n_patterns)\n",
    "                        print(\"====\", string_name, \"====\")\n",
    "                        flowscope_synthetic(string_name)\n",
    "\n",
    "                if generation_method == 'Watts-Strogatz':\n",
    "                    for m_edges in m_edges_list:\n",
    "                        for p_edges in p_edges_list:\n",
    "                            string_name = 'synthetic_' + generation_method + '_'  + str(n_nodes) + '_' + str(m_edges) + '_' + str(p_edges) + '_' + str(n_patterns)\n",
    "                            print(\"====\", string_name, \"====\")\n",
    "                            flowscope_synthetic(string_name)"
   ]
  },
  {
   "cell_type": "code",
   "execution_count": null,
   "metadata": {},
   "outputs": [],
   "source": []
  }
 ],
 "metadata": {
  "kernelspec": {
   "display_name": "spartan",
   "language": "python",
   "name": "python3"
  },
  "language_info": {
   "codemirror_mode": {
    "name": "ipython",
    "version": 3
   },
   "file_extension": ".py",
   "mimetype": "text/x-python",
   "name": "python",
   "nbconvert_exporter": "python",
   "pygments_lexer": "ipython3",
   "version": "3.10.16"
  }
 },
 "nbformat": 4,
 "nbformat_minor": 2
}
