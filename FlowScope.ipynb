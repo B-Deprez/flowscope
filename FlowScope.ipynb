{
 "cells": [
  {
   "cell_type": "markdown",
   "metadata": {},
   "source": [
    "# FlowScope: Spotting Money Laundering Based on Graphs"
   ]
  },
  {
   "cell_type": "markdown",
   "metadata": {},
   "source": [
    "## Abstract"
   ]
  },
  {
   "cell_type": "markdown",
   "metadata": {},
   "source": [
    "Given a graph of the money transfers between accounts of\n",
    "a bank, how can we detect money laundering? Money laundering refers to criminals using the bank’s services to move\n",
    "massive amounts of illegal money to untraceable destination\n",
    "accounts, in order to inject their illegal money into the legitimate financial system. Existing graph fraud detection approaches focus on dense subgraph detection, without considering the fact that money laundering involves high-volume\n",
    "flows of funds through chains of bank accounts, thereby\n",
    "decreasing their detection accuracy. Instead, we propose to\n",
    "model the transactions using a multipartite graph, and detect the complete flow of money from source to destination\n",
    "using a scalable algorithm, FlowScope. Theoretical analysis\n",
    "shows that FlowScope provides guarantees in terms of the\n",
    "amount of money that fraudsters can transfer without being\n",
    "detected. FlowScope outperforms state-of-the-art baselines in\n",
    "accurately detecting the accounts involved in money laundering, in both injected and real-world data settings.\n"
   ]
  },
  {
   "cell_type": "code",
   "execution_count": null,
   "metadata": {
    "scrolled": false
   },
   "outputs": [],
   "source": [
    "import spartan as st"
   ]
  },
  {
   "cell_type": "code",
   "execution_count": null,
   "metadata": {},
   "outputs": [],
   "source": [
    "# load graph data\n",
    "fs1_tensor_data = st.loadTensor(path = \"./inputData/fs_in_data.csv.gz\", header=None)\n",
    "fs2_tensor_data = st.loadTensor(path = \"./inputData/fs_out_data.csv.gz\", header=None)"
   ]
  },
  {
   "cell_type": "markdown",
   "metadata": {},
   "source": [
    "\"tensor_data.data\" has two-colum attributes, and a single-colum values. The following table shows an example of 1000 two-tuple (source account id, destination account id) and the 3th-colum is the money."
   ]
  },
  {
   "cell_type": "markdown",
   "metadata": {},
   "source": [
    "| row id |    0    |    1    |    2   |\n",
    "| :----  | :----   | :----   | :----  |\n",
    "| 0 | 0  |  3009   | 1000 |\n",
    "| 1 | 1  |  915   | 937 |\n",
    "| 2 | 2  |  3061   | 0 |\n",
    "| 3 | 3  |  55   | 6000 |\n",
    "| 4 | 4  |  939   | 157 |\n",
    "| ... | ...  |  ...  | ... |\n",
    "|995|\t621\t|3328 |\t50000\n",
    "|996|\t622\t|1278 |\t3100\n",
    "|997|\t623\t|2470 |\t3000\n",
    "|998|\t375\t|1350 |\t20000\n",
    "|999|\t624\t|3329 |\t1000\n"
   ]
  },
  {
   "cell_type": "code",
   "execution_count": null,
   "metadata": {},
   "outputs": [],
   "source": [
    "fs1_stensor = fs1_tensor_data.toSTensor(hasvalue=True)\n",
    "fs2_stensor = fs2_tensor_data.toSTensor(hasvalue=True)"
   ]
  },
  {
   "cell_type": "code",
   "execution_count": null,
   "metadata": {},
   "outputs": [],
   "source": [
    "#fs1_stensor._data\n",
    "#fs2_stensor._data"
   ]
  },
  {
   "cell_type": "markdown",
   "metadata": {},
   "source": [
    "Sparse tensor \"fs1_stensor\" and \"fs2_stensor\" is a two-mode constructed from tensor_data. source account id, destination account id and money are all mapped into $[0, N]$ integers. \\ fs1_stensor in this example  constructs a tensor of $1334 \\times 3430 $, and fs2_stensor in this example  constructs a tensor of $2203 \\times 1909 $."
   ]
  },
  {
   "cell_type": "code",
   "execution_count": null,
   "metadata": {},
   "outputs": [],
   "source": [
    "maxsize = max(fs1_stensor.shape[1], fs2_stensor.shape[0])\n",
    "fs1_stensor.shape = (fs1_stensor.shape[0], maxsize)\n",
    "fs2_stensor.shape = (maxsize, fs2_stensor.shape[1])"
   ]
  },
  {
   "cell_type": "markdown",
   "metadata": {},
   "source": [
    "Change the shape of two stensors, make sure they have the same size in middle dimension. \\In this case, the middle dimension is resize to $3430$"
   ]
  },
  {
   "cell_type": "code",
   "execution_count": null,
   "metadata": {},
   "outputs": [],
   "source": [
    "graph_1 = st.Graph(fs1_stensor, bipartite=True, weighted=True, modet=None)\n",
    "graph_2 = st.Graph(fs2_stensor, bipartite=True, weighted=True, modet=None)"
   ]
  },
  {
   "cell_type": "markdown",
   "metadata": {},
   "source": [
    "Get Graph instances from sparse tensors."
   ]
  },
  {
   "cell_type": "code",
   "execution_count": null,
   "metadata": {},
   "outputs": [],
   "source": [
    "step2list = []\n",
    "step2list.append(graph_1)\n",
    "step2list.append(graph_2)"
   ]
  },
  {
   "cell_type": "markdown",
   "metadata": {},
   "source": [
    "Create a Graph list, and add Graphs in order"
   ]
  },
  {
   "cell_type": "markdown",
   "metadata": {},
   "source": [
    "## Run holoscope as a single model"
   ]
  },
  {
   "cell_type": "code",
   "execution_count": null,
   "metadata": {},
   "outputs": [],
   "source": [
    "fs = st.FlowScope(step2list)"
   ]
  },
  {
   "cell_type": "markdown",
   "metadata": {},
   "source": [
    "Note: This model does not support GPU, so it will not be accelerated in GPU mode"
   ]
  },
  {
   "cell_type": "code",
   "execution_count": null,
   "metadata": {},
   "outputs": [],
   "source": [
    "print(fs)"
   ]
  },
  {
   "cell_type": "markdown",
   "metadata": {},
   "source": [
    "Default parameters are: {'alpha': '4'} \\ alpha is equivalent to $\\lambda$ in the paper"
   ]
  },
  {
   "cell_type": "code",
   "execution_count": null,
   "metadata": {},
   "outputs": [],
   "source": [
    "res = fs.run(k=3, alpha=4)"
   ]
  },
  {
   "cell_type": "markdown",
   "metadata": {},
   "source": [
    "k is the number of blocks you want to detect.\n",
    "res is a list of each block. Each block constains [[detected node in each partite], score]"
   ]
  },
  {
   "cell_type": "code",
   "execution_count": null,
   "metadata": {},
   "outputs": [],
   "source": [
    "ad_model = st.AnomalyDetection.create(step2list, st.ADPolicy.FlowScope, 'flowscope')"
   ]
  },
  {
   "cell_type": "code",
   "execution_count": null,
   "metadata": {},
   "outputs": [],
   "source": [
    "# run the model\n",
    "#default k=3, alpha=4\n",
    "res = ad_model.run(k=3)"
   ]
  },
  {
   "cell_type": "markdown",
   "metadata": {},
   "source": [
    "The results is a list of top-k suspicious blocks. Each block constains [[detected node in each partite], score] \\ Then we can visualize the subgraphs as follows."
   ]
  },
  {
   "cell_type": "code",
   "execution_count": null,
   "metadata": {
    "scrolled": false
   },
   "outputs": [],
   "source": [
    "#viusal of graphs by networkx\n",
    "import matplotlib.pyplot as plt\n",
    "import numpy as np\n",
    "for r in res:\n",
    "    one, two, three = r[0]\n",
    "    one = np.array(one)\n",
    "    two = np.array(two)\n",
    "    three = np.array(three)\n",
    "    # to subgraph\n",
    "    sg_1 = graph_1.get_sub_graph(one, two)\n",
    "    sg_2 = graph_2.get_sub_graph(two, three)\n",
    "    # networkx plot\n",
    "    fig_1 = st.plot_graph(sg_1, bipartite=True, labels=[*one, *two])\n",
    "    fig_2 = st.plot_graph(sg_2, bipartite=True, labels=[*two, *three])"
   ]
  },
  {
   "cell_type": "markdown",
   "metadata": {},
   "source": [
    "| Block 1| Block 2| Block 3|\n",
    "|:--:|:---:|:--:|\n",
    "|<img src=\"images/flowResGraph_1.png\" />|<img src=\"images/flowResGraph_2.png\" />|<img src=\"images/flowResGraph_3.png\" />|"
   ]
  },
  {
   "cell_type": "markdown",
   "metadata": {},
   "source": [
    "## Experimental results:"
   ]
  },
  {
   "cell_type": "markdown",
   "metadata": {},
   "source": [
    "-----\n",
    "|HoloScope (result in CBank)       |  \n",
    "|:-------------------------:|\n",
    "<img src=\"images/flowscopeRes_1.png\" />\n",
    "|<b> Model analysis of FlowScope.|\n",
    "\n",
    "<img src=\"images/flowscopeRes2.png\" />"
   ]
  },
  {
   "cell_type": "markdown",
   "metadata": {},
   "source": [
    "## Cite:"
   ]
  },
  {
   "cell_type": "markdown",
   "metadata": {},
   "source": [
    "------\n",
    "1. Li, Xiangfeng, Shenghua Liu, Zifeng Li, Xiaotian Han, Chuan Shi, Bryan Hooi, He Huang, and Xueqi Cheng. \"FlowScope: Spotting Money Laundering Based on Graphs.\" In AAAI, pp. 4731-4738. 2020."
   ]
  }
 ],
 "metadata": {
  "kernelspec": {
   "display_name": "py3",
   "language": "python",
   "name": "py3"
  },
  "language_info": {
   "codemirror_mode": {
    "name": "ipython",
    "version": 3
   },
   "file_extension": ".py",
   "mimetype": "text/x-python",
   "name": "python",
   "nbconvert_exporter": "python",
   "pygments_lexer": "ipython3",
   "version": "3.7.6"
  }
 },
 "nbformat": 4,
 "nbformat_minor": 2
}
