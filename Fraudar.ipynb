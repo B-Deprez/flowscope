{
 "cells": [
  {
   "cell_type": "markdown",
   "metadata": {},
   "source": [
    "# Fraudar_demo"
   ]
  },
  {
   "cell_type": "code",
   "execution_count": null,
   "metadata": {},
   "outputs": [],
   "source": [
    "import sys\n",
    "import spartan as st"
   ]
  },
  {
   "cell_type": "markdown",
   "metadata": {},
   "source": [
    "Using backend cpu"
   ]
  },
  {
   "cell_type": "code",
   "execution_count": null,
   "metadata": {},
   "outputs": [],
   "source": [
    "# load graph data\n",
    "tensor = st.loadTensor(path = \"inputData/plain_graph_small.zip\", col_types = [int, int], sep=' ')\n",
    "\n",
    "stensor = tensor.toSTensor(hasvalue=False)"
   ]
  },
  {
   "cell_type": "code",
   "execution_count": null,
   "metadata": {},
   "outputs": [],
   "source": [
    "# create a anomaly detection model\n",
    "fd = st.Fraudar(stensor)"
   ]
  },
  {
   "cell_type": "code",
   "execution_count": null,
   "metadata": {
    "tags": []
   },
   "outputs": [],
   "source": [
    "# run the model\n",
    "fd.run(k=2, maxsize=[100, 100])"
   ]
  },
  {
   "cell_type": "markdown",
   "metadata": {},
   "source": [
    "finished computing weight matrix  \n",
    "finished setting up greedy  \n",
    "finished setting deltas  \n",
    "finished building min trees  \n",
    "Fraudar iter 0 finished.\n",
    "score obtained is  3.0490293632985193\n",
    "\n",
    "finished computing weight matrix\n",
    "finished setting up greedy\n",
    "finished setting deltas\n",
    "finished building min trees\n",
    "Fraudar iter 1 finished.\n",
    "score obtained is  0.4185829699133876"
   ]
  }
 ],
 "metadata": {
  "kernelspec": {
   "display_name": "Python 3",
   "language": "python",
   "name": "python3"
  },
  "language_info": {
   "codemirror_mode": {
    "name": "ipython",
    "version": 3
   },
   "file_extension": ".py",
   "mimetype": "text/x-python",
   "name": "python",
   "nbconvert_exporter": "python",
   "pygments_lexer": "ipython3",
   "version": "3.6.12"
  }
 },
 "nbformat": 4,
 "nbformat_minor": 2
}
