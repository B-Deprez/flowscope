{
 "cells": [
  {
   "cell_type": "markdown",
   "metadata": {},
   "source": [
    "# A quick start of spartan\n",
    "\n",
    "## Import spartan\n",
    "By default, backend is configured as CPU"
   ]
  },
  {
   "cell_type": "code",
   "execution_count": null,
   "metadata": {
    "scrolled": false
   },
   "outputs": [],
   "source": [
    "import spartan as st"
   ]
  },
  {
   "cell_type": "markdown",
   "metadata": {},
   "source": [
    "## I/O: Load orginal data as st.TensorData object\n",
    "    Two way to load orignal data\n",
    "    - use pandas package\n",
    "    - use build-in st.loadTensor interface, which support pandas-like parameters\n",
    "    \n",
    "    Input file can be list of tuples e.g. edgelist of a graph, with format: csv-like, sql-db, npy, npz, pickle, or their compressed forms, gz, bz2, and zip."
   ]
  },
  {
   "cell_type": "markdown",
   "metadata": {},
   "source": [
    "### 1. Plain Graph edgelist\n",
    "    \n",
    "    File ./inputData/yelp.edgelist.gz has the edgelist of the graph in csv-like file separated by space\n",
    "        0 0 1\n",
    "        0 198 1\n",
    "        0 11036 1\n",
    "        0 40573 1\n",
    "        0 81 1\n",
    "        0 84 1\n",
    "        0 85 1\n",
    "        ... ..."
   ]
  },
  {
   "cell_type": "code",
   "execution_count": null,
   "metadata": {},
   "outputs": [],
   "source": [
    "#use pandas\n",
    "import pandas as pd\n",
    "data = pd.read_csv('./inputData/yelp.edgelist.gz', sep=' ', header=None, dtype={1:int, 2:int, 3:int})\n",
    "tensor_data = st.TensorData(data)\n"
   ]
  },
  {
   "cell_type": "code",
   "execution_count": null,
   "metadata": {},
   "outputs": [],
   "source": [
    "#use build-in st.loadTensor\n",
    "tensor_data = st.loadTensor(path = \"./inputData/yelp.edgelist.gz\", sep=' ', header=None, dtype={1:int, 2:int, 3:int})"
   ]
  },
  {
   "cell_type": "markdown",
   "metadata": {},
   "source": [
    "    Output of tensor_data.data\n",
    "\n",
    "        0\t1\t2\n",
    "        0\t0\t0\t1\n",
    "        1\t0\t198\t1\n",
    "        2\t0\t11036\t1\n",
    "        3\t0\t40573\t1\n",
    "        4\t0\t81\t1\n",
    "        ...\t...\t...\t...\n",
    "        2601672\t686551\t85538\t1\n",
    "        2601673\t686552\t85538\t1\n",
    "        2601674\t686553\t85538\t1\n",
    "        2601675\t686554\t85538\t1\n",
    "        2601676\t686555\t85538\t1\n",
    "        2601677 rows × 3 columns"
   ]
  },
  {
   "cell_type": "code",
   "execution_count": null,
   "metadata": {
    "scrolled": true
   },
   "outputs": [],
   "source": [
    "#generate static sparse tensor. The main reason is re-map those input ids into [0,n]\n",
    "stensor = tensor_data.toSTensor(hasvalue=True, mappers={0:st.DenseIntMapper(),1:st.IntMapper()})"
   ]
  },
  {
   "cell_type": "code",
   "execution_count": null,
   "metadata": {},
   "outputs": [],
   "source": [
    "# construct graph with a static tensor\n",
    "graph = st.Graph(stensor, bipartite=True, weighted=True, modet=None)"
   ]
  },
  {
   "cell_type": "code",
   "execution_count": null,
   "metadata": {},
   "outputs": [],
   "source": [
    "# degree distribution\n",
    "uniqued, fod = graph.degree_dist(axis=1)"
   ]
  },
  {
   "cell_type": "code",
   "execution_count": null,
   "metadata": {
    "scrolled": true
   },
   "outputs": [],
   "source": [
    "# plot degree distribution\n",
    "fig = st.plot_dist(uniqued, fod, 'user degree', 'frequency')"
   ]
  },
  {
   "cell_type": "markdown",
   "metadata": {},
   "source": [
    "### 2. Rich graph tuples\n",
    "    File ./inputData/yelp.tensor.gz has the edgelist of the graph in csv file\n",
    "        0,0,2012-08-01,4,1\n",
    "        1,0,2014-02-13,5,1\n",
    "        2,0,2015-10-31,5,1\n",
    "        3,0,2015-12-26,3,1\n",
    "        4,0,2016-04-08,2,1"
   ]
  },
  {
   "cell_type": "code",
   "execution_count": null,
   "metadata": {},
   "outputs": [],
   "source": [
    "# build-in st.loadTensor\n",
    "# if col_types is not given, the types will be inferred.\n",
    "# if col_idx is not given, all columns will be used in original order.\n",
    "tensor_data = st.loadTensor(path = \"./inputData/yelp.tensor.gz\", header=None, \n",
    "                            col_idx=[0,1,2,3,4], col_types=[int,int,str,int,int])"
   ]
  },
  {
   "cell_type": "markdown",
   "metadata": {},
   "source": [
    "|row id |    0\t|   1\t|         2    \t|   3 \t|   4  \t|\n",
    "|-----:\t|-----:\t|----:\t|-----------:\t|----:\t|-----\t|\n",
    "|    0 \t|    0 \t|   0 \t| 2012-08-01 \t|   4 \t|   1 \t|\n",
    "|    1 \t|    1 \t|   0 \t| 2014-02-13 \t|   5 \t|   1 \t|\n",
    "|    2 \t|    2 \t|   0 \t| 2015-10-31 \t|   5 \t|   1 \t|\n",
    "|    3 \t|    3 \t|   0 \t| 2015-12-26 \t|   3 \t|   1 \t|\n",
    "|    4 \t|    4 \t|   0 \t| 2016-04-08 \t|   2 \t|   1 \t|\n",
    "|  ... \t|  ... \t| ... \t|        ... \t| ... \t| ... \t|\n",
    "| 9995 \t| 4523 \t| 508 \t| 2013-03-06 \t|   5 \t|   1 \t|\n",
    "| 9996 \t|  118 \t| 508 \t| 2013-03-07 \t|   4 \t|   1 \t|\n",
    "| 9997 \t| 5884 \t| 508 \t| 2013-03-07 \t|   1 \t|   1 \t|\n",
    "| 9998 \t| 2628 \t| 508 \t| 2013-04-08 \t|   5 \t|   1 \t|\n",
    "| 9999 \t| 5885 \t| 508 \t| 2013-06-17 \t|   5 \t|   1 \t|\n",
    "\n"
   ]
  },
  {
   "cell_type": "code",
   "execution_count": null,
   "metadata": {},
   "outputs": [],
   "source": [
    "# Then, generate sparse static tensor, i.e. instance of st.STensor\n",
    "stensor = tensor_data.toSTensor(hasvalue=True, mappers={2:st.TimeMapper(timeformat='%Y-%m-%d')})"
   ]
  },
  {
   "cell_type": "markdown",
   "metadata": {},
   "source": [
    "Or, map column into indices and then construct STensor. \n",
    "    ```python\n",
    "        # load a new tensor data\n",
    "        #tensor_data = st.loadTensor(...)\n",
    "        # separately do map\n",
    "        coords, data = tensor_data.do_map(hasvalue=True, mappers={2:st.TimeMapper(timeformat='%Y-%m-%d')})\n",
    "        # construct stensor\n",
    "        stensor = st.STensor((coords.T, data))\n",
    "    ```"
   ]
  },
  {
   "cell_type": "markdown",
   "metadata": {},
   "source": [
    "Construct a graph with stensor"
   ]
  },
  {
   "cell_type": "code",
   "execution_count": null,
   "metadata": {},
   "outputs": [],
   "source": [
    "# construct a graph: adjacency matrix from the first two modes of stensor\n",
    "# edge properties in other modes of stensor\n",
    "# modet: given the temporal mode idx if algorithm needs temporal analysis.\n",
    "graph = st.Graph(stensor, bipartite=True, weighted=True, modet=2)"
   ]
  },
  {
   "cell_type": "markdown",
   "metadata": {},
   "source": [
    "### 3. Time series:\n",
    "    List of timeseries values from different sensors"
   ]
  },
  {
   "cell_type": "code",
   "execution_count": null,
   "metadata": {},
   "outputs": [],
   "source": [
    "tensor_data = st.loadTensor(path = \"inputData/ecg_timeseries_small.zip\", sep=' ',\n",
    "                            col_types = [float, float, float])\n",
    "\n",
    "# 1-D DTensor for time ticks, and multi-dimensional array DTensor for multivariate time series\n",
    "time, value =  tensor_data.toDTensor(hastticks=True)"
   ]
  },
  {
   "cell_type": "markdown",
   "metadata": {},
   "source": [
    "Construct a st.Timeseires with DTensor instances."
   ]
  },
  {
   "cell_type": "code",
   "execution_count": null,
   "metadata": {},
   "outputs": [],
   "source": [
    "time_series = st.Timeseries(value, time)"
   ]
  }
 ],
 "metadata": {
  "file_extension": ".py",
  "kernelspec": {
   "display_name": "Python 3",
   "language": "python",
   "name": "python3"
  },
  "language_info": {
   "codemirror_mode": {
    "name": "ipython",
    "version": 3
   },
   "file_extension": ".py",
   "mimetype": "text/x-python",
   "name": "python",
   "nbconvert_exporter": "python",
   "pygments_lexer": "ipython3",
   "version": "3.8.5"
  },
  "mimetype": "text/x-python",
  "name": "python",
  "npconvert_exporter": "python",
  "pygments_lexer": "ipython3",
  "version": 3
 },
 "nbformat": 4,
 "nbformat_minor": 2
}
